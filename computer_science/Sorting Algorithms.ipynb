{
 "cells": [
  {
   "cell_type": "code",
   "execution_count": 110,
   "metadata": {
    "ExecuteTime": {
     "end_time": "2019-07-06T22:06:16.722759Z",
     "start_time": "2019-07-06T22:06:16.720135Z"
    }
   },
   "outputs": [],
   "source": [
    "from collections import defaultdict\n",
    "import numpy as np"
   ]
  },
  {
   "cell_type": "code",
   "execution_count": 16,
   "metadata": {
    "ExecuteTime": {
     "end_time": "2019-07-06T14:26:53.933580Z",
     "start_time": "2019-07-06T14:26:53.928923Z"
    }
   },
   "outputs": [
    {
     "data": {
      "text/plain": [
       "array([5, 3, 6, 0, 8])"
      ]
     },
     "execution_count": 16,
     "metadata": {},
     "output_type": "execute_result"
    }
   ],
   "source": [
    "x = np.random.randint(0, 10, size=5)\n",
    "x"
   ]
  },
  {
   "cell_type": "markdown",
   "metadata": {},
   "source": [
    "## Bubble Sort\n",
    "\n",
    "Recursively loop throught the array, looking at items in pairs. If the first item is larger than the second, swap them. Continue this process until there are no swaps made (array is sorted)."
   ]
  },
  {
   "cell_type": "code",
   "execution_count": 12,
   "metadata": {
    "ExecuteTime": {
     "end_time": "2019-07-06T14:11:57.581939Z",
     "start_time": "2019-07-06T14:11:57.577298Z"
    }
   },
   "outputs": [],
   "source": [
    "def bubble(x):\n",
    "    madeSwap = True\n",
    "    while madeSwap:\n",
    "        madeSwap = False\n",
    "        for i in range(len(x) - 1):\n",
    "            if x[i] > x[i+1]:\n",
    "                x[i], x[i+1] = x[i+1], x[i]\n",
    "                madeSwap = True\n",
    "    return x"
   ]
  },
  {
   "cell_type": "code",
   "execution_count": 41,
   "metadata": {
    "ExecuteTime": {
     "end_time": "2019-07-06T14:39:28.285280Z",
     "start_time": "2019-07-06T14:39:28.281490Z"
    }
   },
   "outputs": [
    {
     "name": "stdout",
     "output_type": "stream",
     "text": [
      "[5 3 6 0 8]\n",
      "[0 3 5 6 8]\n"
     ]
    }
   ],
   "source": [
    "print(x)\n",
    "print(bubble(x.copy()))"
   ]
  },
  {
   "cell_type": "markdown",
   "metadata": {},
   "source": [
    "## Selection Sort\n",
    "\n",
    "Repeatedly loop through the array, looking for the smallest value. Swap the smallest value with the first location in the unsorted partition."
   ]
  },
  {
   "cell_type": "code",
   "execution_count": 62,
   "metadata": {
    "ExecuteTime": {
     "end_time": "2019-07-06T21:31:15.988234Z",
     "start_time": "2019-07-06T21:31:15.983953Z"
    }
   },
   "outputs": [],
   "source": [
    "def selection(x):\n",
    "    for unsort_ptr in range(len(x)):\n",
    "        min_ptr = unsort_ptr\n",
    "        for i in range(unsort_ptr, len(x)):\n",
    "            if x[i] < x[min_ptr]:\n",
    "                min_ptr = i\n",
    "        x[unsort_ptr], x[min_ptr] = x[min_ptr], x[unsort_ptr]\n",
    "    return x"
   ]
  },
  {
   "cell_type": "code",
   "execution_count": 63,
   "metadata": {
    "ExecuteTime": {
     "end_time": "2019-07-06T21:31:16.999099Z",
     "start_time": "2019-07-06T21:31:16.994935Z"
    }
   },
   "outputs": [
    {
     "name": "stdout",
     "output_type": "stream",
     "text": [
      "[5 3 6 0 8]\n",
      "[0 3 5 6 8]\n"
     ]
    }
   ],
   "source": [
    "print(x)\n",
    "print(selection(x.copy()))"
   ]
  },
  {
   "cell_type": "markdown",
   "metadata": {
    "ExecuteTime": {
     "end_time": "2019-07-06T14:27:33.274524Z",
     "start_time": "2019-07-06T14:27:33.270490Z"
    }
   },
   "source": [
    "## Insertion Sort\n",
    "\n",
    "Loop through the array. For each item, loop back through the rest to find it's location in the \"sorted\" partition."
   ]
  },
  {
   "cell_type": "code",
   "execution_count": 36,
   "metadata": {
    "ExecuteTime": {
     "end_time": "2019-07-06T14:38:37.390582Z",
     "start_time": "2019-07-06T14:38:37.386216Z"
    }
   },
   "outputs": [],
   "source": [
    "def insertion(x):\n",
    "    for i in range(1, len(x)):\n",
    "        for j in range(i, 0, -1):\n",
    "            if x[j] < x[j-1]:\n",
    "                x[j], x[j-1] = x[j-1], x[j]\n",
    "            else:\n",
    "                break\n",
    "    return x"
   ]
  },
  {
   "cell_type": "code",
   "execution_count": 39,
   "metadata": {
    "ExecuteTime": {
     "end_time": "2019-07-06T14:39:04.827741Z",
     "start_time": "2019-07-06T14:39:04.823840Z"
    }
   },
   "outputs": [
    {
     "name": "stdout",
     "output_type": "stream",
     "text": [
      "[5 3 6 0 8]\n",
      "[0 3 5 6 8]\n"
     ]
    }
   ],
   "source": [
    "print(x)\n",
    "print(insertion(x.copy()))"
   ]
  },
  {
   "cell_type": "markdown",
   "metadata": {},
   "source": [
    "## Merge Sort\n",
    "\n",
    "Recursively split the array into pieces and then merge neighboring chunks."
   ]
  },
  {
   "cell_type": "code",
   "execution_count": 68,
   "metadata": {
    "ExecuteTime": {
     "end_time": "2019-07-06T21:35:48.641212Z",
     "start_time": "2019-07-06T21:35:48.633873Z"
    }
   },
   "outputs": [],
   "source": [
    "def merge(x):\n",
    "    result = np.zeros(len(x), dtype=int)\n",
    "    if len(x) < 2:\n",
    "        return x\n",
    "    mid = len(x) // 2\n",
    "    a = merge(x[:mid])\n",
    "    b = merge(x[mid:])\n",
    "    i, j, c = 0, 0, 0\n",
    "    while (i < len(a)) or (j < len(b)):\n",
    "        if (i < len(a)) and (j < len(b)):\n",
    "            if a[i] <= b[j]:\n",
    "                result[c] = a[i]\n",
    "                i += 1\n",
    "            else:\n",
    "                result[c] = b[j]\n",
    "                j += 1\n",
    "        elif i < len(a):\n",
    "            result[c] = a[i]\n",
    "            i += 1\n",
    "        else:\n",
    "            result[c] = b[j]\n",
    "            j += 1\n",
    "        c += 1\n",
    "    return result"
   ]
  },
  {
   "cell_type": "code",
   "execution_count": 69,
   "metadata": {
    "ExecuteTime": {
     "end_time": "2019-07-06T21:35:49.214020Z",
     "start_time": "2019-07-06T21:35:49.210067Z"
    }
   },
   "outputs": [
    {
     "name": "stdout",
     "output_type": "stream",
     "text": [
      "[5 3 6 0 8]\n",
      "[0 3 5 6 8]\n"
     ]
    }
   ],
   "source": [
    "print(x)\n",
    "print(merge(x.copy()))"
   ]
  },
  {
   "cell_type": "markdown",
   "metadata": {
    "ExecuteTime": {
     "end_time": "2019-07-06T21:37:37.158436Z",
     "start_time": "2019-07-06T21:37:37.155530Z"
    }
   },
   "source": [
    "## Radix Sort\n",
    "\n",
    "Create $k$ bins and sort each number into the bins, one digit at a time"
   ]
  },
  {
   "cell_type": "code",
   "execution_count": 165,
   "metadata": {
    "ExecuteTime": {
     "end_time": "2019-07-06T22:46:38.548487Z",
     "start_time": "2019-07-06T22:46:38.543171Z"
    }
   },
   "outputs": [],
   "source": [
    "def radix(x, k=10):\n",
    "    for n in range(int(np.log10(x).max())+1):\n",
    "        result = []\n",
    "        bins = {i: [] for i in range(k)}\n",
    "        digit = 10 ** n\n",
    "        for i in x:\n",
    "            bins[i//digit % 10].append(i)\n",
    "        for val in bins.values():\n",
    "            result.extend(val)\n",
    "        x = result[:]\n",
    "    return x"
   ]
  },
  {
   "cell_type": "code",
   "execution_count": 166,
   "metadata": {
    "ExecuteTime": {
     "end_time": "2019-07-06T22:46:39.591258Z",
     "start_time": "2019-07-06T22:46:39.586967Z"
    }
   },
   "outputs": [
    {
     "name": "stdout",
     "output_type": "stream",
     "text": [
      "[19591, 193158, 225212, 235289, 320257, 557539, 670035, 681777, 919574, 929334]\n",
      "[ 19591 193158 225212 235289 320257 557539 670035 681777 919574 929334]\n"
     ]
    }
   ],
   "source": [
    "b = np.random.randint(0, int(1e6), 10)\n",
    "print(radix(b))\n",
    "print(np.sort(b))"
   ]
  },
  {
   "cell_type": "markdown",
   "metadata": {},
   "source": [
    "## Quick Sort\n",
    "\n",
    "Set first element in unsorted section as the pivot. Go through rest of list moving items smaller than the pivot in front of those larger than the pivot. Then swap the pivot with the last smaller than item. Repeat for each unsorted section."
   ]
  },
  {
   "cell_type": "code",
   "execution_count": 202,
   "metadata": {
    "ExecuteTime": {
     "end_time": "2019-07-07T15:07:45.337069Z",
     "start_time": "2019-07-07T15:07:45.331054Z"
    }
   },
   "outputs": [],
   "source": [
    "def quick(x):\n",
    "    if len(x) < 2:\n",
    "        return x\n",
    "    pivot = 0\n",
    "    swap = 1\n",
    "    last_small = 0\n",
    "    for i in range(swap, len(x)):\n",
    "        if x[i] < x[pivot]:\n",
    "            x[swap], x[i] = x[i], x[swap]\n",
    "            last_small = swap\n",
    "            swap += 1    \n",
    "    x[pivot], x[last_small] = x[last_small], x[pivot]\n",
    "    x[:swap] = quick(x[:swap])\n",
    "    x[swap:] = quick(x[swap:])\n",
    "    return x"
   ]
  },
  {
   "cell_type": "code",
   "execution_count": 207,
   "metadata": {
    "ExecuteTime": {
     "end_time": "2019-07-07T15:09:28.007156Z",
     "start_time": "2019-07-07T15:09:28.002679Z"
    }
   },
   "outputs": [
    {
     "name": "stdout",
     "output_type": "stream",
     "text": [
      "[ 8  8  1 19 11 10 16  9  5  6]\n",
      "[ 1  5  6  8  8  9 10 11 16 19]\n"
     ]
    }
   ],
   "source": [
    "b = np.random.randint(0, 20, 10)\n",
    "print(b)\n",
    "print(quick(b.copy()))"
   ]
  },
  {
   "cell_type": "markdown",
   "metadata": {},
   "source": [
    "## Heap Sort\n",
    "\n",
    "Build heap out of the array and then use heapify to sort it"
   ]
  },
  {
   "cell_type": "code",
   "execution_count": null,
   "metadata": {},
   "outputs": [],
   "source": []
  }
 ],
 "metadata": {
  "kernelspec": {
   "display_name": "Python 3",
   "language": "python",
   "name": "python3"
  },
  "language_info": {
   "codemirror_mode": {
    "name": "ipython",
    "version": 3
   },
   "file_extension": ".py",
   "mimetype": "text/x-python",
   "name": "python",
   "nbconvert_exporter": "python",
   "pygments_lexer": "ipython3",
   "version": "3.7.3"
  },
  "toc": {
   "base_numbering": 1,
   "nav_menu": {},
   "number_sections": true,
   "sideBar": true,
   "skip_h1_title": false,
   "title_cell": "Table of Contents",
   "title_sidebar": "Contents",
   "toc_cell": false,
   "toc_position": {},
   "toc_section_display": true,
   "toc_window_display": false
  }
 },
 "nbformat": 4,
 "nbformat_minor": 2
}
