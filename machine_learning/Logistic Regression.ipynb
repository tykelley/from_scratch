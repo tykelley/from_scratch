{
 "cells": [
  {
   "cell_type": "code",
   "execution_count": 1,
   "metadata": {
    "ExecuteTime": {
     "end_time": "2019-07-06T01:17:15.116042Z",
     "start_time": "2019-07-06T01:17:13.787019Z"
    }
   },
   "outputs": [],
   "source": [
    "%matplotlib inline\n",
    "import matplotlib.pyplot as plt\n",
    "import numpy as np\n",
    "from sklearn.linear_model import LogisticRegression"
   ]
  },
  {
   "cell_type": "markdown",
   "metadata": {},
   "source": [
    "## Load Iris dataset\n",
    "\n",
    "Load it and create three One vs. All solutions to combine and determine the class of each entry. The $y$ and $W$ are created to make the fitting easier through looping."
   ]
  },
  {
   "cell_type": "code",
   "execution_count": 2,
   "metadata": {
    "ExecuteTime": {
     "end_time": "2019-07-06T01:17:15.163236Z",
     "start_time": "2019-07-06T01:17:15.118104Z"
    }
   },
   "outputs": [],
   "source": [
    "from sklearn.datasets import load_iris\n",
    "X, y = load_iris(return_X_y=True)\n",
    "X = np.c_[np.ones((X.shape[0], 1)), X]\n",
    "# Convert to three One vs. All problems\n",
    "y = np.vstack([np.array(y == 0, dtype=int),\n",
    "               np.array(y == 1, dtype=int),\n",
    "               np.array(y == 2, dtype=int),\n",
    "               ]).reshape(3, -1, 1)\n",
    "W = np.random.randn(3, X.shape[1], 1)"
   ]
  },
  {
   "cell_type": "code",
   "execution_count": 3,
   "metadata": {
    "ExecuteTime": {
     "end_time": "2019-07-06T01:17:15.172624Z",
     "start_time": "2019-07-06T01:17:15.165860Z"
    }
   },
   "outputs": [
    {
     "data": {
      "text/plain": [
       "array([[-0.35046944,  1.3034533 , -0.3741031 ,  0.29645638,  0.10589084],\n",
       "       [-0.0358767 , -0.45248151, -0.50465058, -0.15710759,  0.37792978],\n",
       "       [ 0.45238857,  0.29891665,  1.55690124, -0.15699958,  1.05677563]])"
      ]
     },
     "execution_count": 3,
     "metadata": {},
     "output_type": "execute_result"
    }
   ],
   "source": [
    "W.reshape(3, -1)"
   ]
  },
  {
   "cell_type": "markdown",
   "metadata": {},
   "source": [
    "### Define some helper functions to make life easier."
   ]
  },
  {
   "cell_type": "code",
   "execution_count": 4,
   "metadata": {
    "ExecuteTime": {
     "end_time": "2019-07-06T01:17:15.180116Z",
     "start_time": "2019-07-06T01:17:15.175119Z"
    }
   },
   "outputs": [],
   "source": [
    "def sigmoid(z):\n",
    "    \"\"\"Returns sigmoid of array z\"\"\"\n",
    "    return 1. / (1 + np.exp(-z))\n",
    "\n",
    "def predict(X, W):\n",
    "    \"\"\"Predicts classes from data\"\"\"\n",
    "    pred = sigmoid(np.dot(X, W).reshape(X.shape[0], 3))\n",
    "    return pred.argmax(axis=1)\n",
    "\n",
    "def score(y_pred, y):\n",
    "    return (y_pred == y).mean()"
   ]
  },
  {
   "cell_type": "markdown",
   "metadata": {},
   "source": [
    "### Grad. Descent"
   ]
  },
  {
   "cell_type": "code",
   "execution_count": 5,
   "metadata": {
    "ExecuteTime": {
     "end_time": "2019-07-06T01:17:18.951168Z",
     "start_time": "2019-07-06T01:17:15.182383Z"
    }
   },
   "outputs": [
    {
     "data": {
      "text/plain": [
       "array([[  0.22  ,   1.5966,   3.3937,  -6.3151,  -2.9521],\n",
       "       [  7.3783,  -0.2453,  -2.7965,   1.3136,  -2.7783],\n",
       "       [-15.086 ,  -3.7178,  -5.219 ,   6.9741,  11.2953]])"
      ]
     },
     "execution_count": 5,
     "metadata": {},
     "output_type": "execute_result"
    }
   ],
   "source": [
    "n_iters = 100000\n",
    "alpha = 0.1\n",
    "for i, w in enumerate(W):\n",
    "    for _ in range(n_iters):\n",
    "        w -= (alpha/X.shape[0]) * np.dot(X.T, sigmoid(np.dot(X, w)) - y[i])\n",
    "\n",
    "np.round(W.reshape(3, -1), 4)"
   ]
  },
  {
   "cell_type": "markdown",
   "metadata": {},
   "source": [
    "## Compare to scikit-learn"
   ]
  },
  {
   "cell_type": "code",
   "execution_count": 6,
   "metadata": {
    "ExecuteTime": {
     "end_time": "2019-07-06T01:17:18.979227Z",
     "start_time": "2019-07-06T01:17:18.953236Z"
    }
   },
   "outputs": [
    {
     "data": {
      "text/plain": [
       "array([[  1.1849,   2.0216,   6.9985, -11.1481,  -5.1549],\n",
       "       [  7.3785,  -0.2454,  -2.7966,   1.3137,  -2.7784],\n",
       "       [-42.6376,  -2.4652,  -6.6809,   9.4292,  18.2866]])"
      ]
     },
     "execution_count": 6,
     "metadata": {},
     "output_type": "execute_result"
    }
   ],
   "source": [
    "logReg = LogisticRegression(solver='lbfgs', multi_class='ovr', fit_intercept=False, penalty='none')\n",
    "_, y_data = load_iris(return_X_y=True)\n",
    "logReg.fit(X, y_data)\n",
    "np.round(logReg.coef_, 4)"
   ]
  },
  {
   "cell_type": "markdown",
   "metadata": {},
   "source": [
    "### Accuracy scores\n",
    "I tried to make the two models as similar as possible. Weights look fairly similar (relative strengths and pos/neg within classes). I wouldn't expect them to be the same since they're using a different solver than my brute force approach. "
   ]
  },
  {
   "cell_type": "code",
   "execution_count": 7,
   "metadata": {
    "ExecuteTime": {
     "end_time": "2019-07-06T01:17:18.987847Z",
     "start_time": "2019-07-06T01:17:18.981226Z"
    }
   },
   "outputs": [
    {
     "name": "stdout",
     "output_type": "stream",
     "text": [
      "My score:  0.98\n",
      "Sklearn score:  0.98\n"
     ]
    }
   ],
   "source": [
    "print(\"My score: \", score(predict(X, W), y_data))\n",
    "print(\"Sklearn score: \", logReg.score(X, y_data))"
   ]
  },
  {
   "cell_type": "code",
   "execution_count": null,
   "metadata": {},
   "outputs": [],
   "source": []
  }
 ],
 "metadata": {
  "kernelspec": {
   "display_name": "Python 3",
   "language": "python",
   "name": "python3"
  },
  "language_info": {
   "codemirror_mode": {
    "name": "ipython",
    "version": 3
   },
   "file_extension": ".py",
   "mimetype": "text/x-python",
   "name": "python",
   "nbconvert_exporter": "python",
   "pygments_lexer": "ipython3",
   "version": "3.7.3"
  },
  "toc": {
   "base_numbering": 1,
   "nav_menu": {},
   "number_sections": true,
   "sideBar": true,
   "skip_h1_title": false,
   "title_cell": "Table of Contents",
   "title_sidebar": "Contents",
   "toc_cell": false,
   "toc_position": {},
   "toc_section_display": true,
   "toc_window_display": false
  }
 },
 "nbformat": 4,
 "nbformat_minor": 2
}
